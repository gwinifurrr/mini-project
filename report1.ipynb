{
 "cells": [
  {
   "cell_type": "markdown",
   "id": "704cfcc5",
   "metadata": {},
   "source": [
    "# REPORT MINI PROJECT \n",
    "UMI ADILAH AMIR (2418508) & NURUL ASYIQIN MHD NOOR (2417776) "
   ]
  },
  {
   "cell_type": "markdown",
   "id": "1b88a9fe",
   "metadata": {},
   "source": [
    "# INTRODUCTION"
   ]
  },
  {
   "cell_type": "markdown",
   "id": "d6a58247",
   "metadata": {},
   "source": [
    "Netflix is one of the leading streaming platforms, offering a vast library of movies and TV shows across different genres, ratings, and countries. This project analyzes the Netflix dataset to understand how its content is distributed and how it has evolved over time. Through various visualizations, including pie charts, bar charts, and line charts, we examine key patterns such as genre popularity, content ratings, movie duration trends, and content growth. By presenting this data through interactive dashboards, we aim to provide a clear and engaging way to explore Netflix’s catalog.\n"
   ]
  },
  {
   "cell_type": "markdown",
   "id": "7d237bde",
   "metadata": {},
   "source": [
    "# OBJECTIVE"
   ]
  },
  {
   "cell_type": "markdown",
   "id": "97620842",
   "metadata": {},
   "source": [
    "This project aims to explore Netflix’s content using different charts to find patterns in movies and shows. We will:\n",
    "- Compare movies and TV shows using a pie chart.\n",
    "- Find the top 5 most popular genres with another pie chart.\n",
    "- Analyze movie durations with a bar chart to see common lengths.\n",
    "- Check content ratings with a bar chart to understand age groups.\n",
    "- Track content growth over time using a line chart.\n",
    "- See which countries have the most content with a horizontal bar chart.\n",
    "- Compare the top 5 Netflix genres using another horizontal bar chart.\n",
    "These charts will help us understand how Netflix’s catalog has changed and what type of content is most common."
   ]
  },
  {
   "cell_type": "markdown",
   "id": "762e5218",
   "metadata": {},
   "source": [
    "This step is part of the data cleaning process, where we:\n",
    "\n",
    "- Import our dataset into Python.\n",
    "\n",
    "- Inspect the structure of the data.\n",
    "\n",
    "- Identify potential issues like missing values or incorrect data types that we may need to fix later."
   ]
  },
  {
   "cell_type": "code",
   "execution_count": 5,
   "id": "078a1024",
   "metadata": {},
   "outputs": [
    {
     "name": "stdout",
     "output_type": "stream",
     "text": [
      "<class 'pandas.core.frame.DataFrame'>\n",
      "RangeIndex: 8790 entries, 0 to 8789\n",
      "Data columns (total 10 columns):\n",
      " #   Column        Non-Null Count  Dtype \n",
      "---  ------        --------------  ----- \n",
      " 0   show_id       8790 non-null   object\n",
      " 1   type          8790 non-null   object\n",
      " 2   title         8790 non-null   object\n",
      " 3   director      8790 non-null   object\n",
      " 4   country       8790 non-null   object\n",
      " 5   date_added    8790 non-null   object\n",
      " 6   release_year  8790 non-null   int64 \n",
      " 7   rating        8790 non-null   object\n",
      " 8   duration      8790 non-null   object\n",
      " 9   listed_in     8790 non-null   object\n",
      "dtypes: int64(1), object(9)\n",
      "memory usage: 686.8+ KB\n"
     ]
    }
   ],
   "source": [
    "import pandas as pd\n",
    "df = pd.read_csv('netflix1.csv')\n",
    "df.info()"
   ]
  },
  {
   "cell_type": "markdown",
   "id": "999bd742",
   "metadata": {},
   "source": [
    "This command helps us:\n",
    "\n",
    "- Identify which columns have missing values\n",
    "\n",
    "- See how many values are missing in each column\n",
    "\n",
    "By knowing where the data is incomplete, we can decide:\n",
    "\n",
    "- Whether to drop or fill in the missing data\n",
    "\n",
    "- Which columns may need further cleaning before analysis\n",
    "\n"
   ]
  },
  {
   "cell_type": "code",
   "execution_count": 8,
   "id": "bf8eb081",
   "metadata": {},
   "outputs": [
    {
     "data": {
      "text/html": [
       "<div>\n",
       "<style scoped>\n",
       "    .dataframe tbody tr th:only-of-type {\n",
       "        vertical-align: middle;\n",
       "    }\n",
       "\n",
       "    .dataframe tbody tr th {\n",
       "        vertical-align: top;\n",
       "    }\n",
       "\n",
       "    .dataframe thead th {\n",
       "        text-align: right;\n",
       "    }\n",
       "</style>\n",
       "<table border=\"1\" class=\"dataframe\">\n",
       "  <thead>\n",
       "    <tr style=\"text-align: right;\">\n",
       "      <th></th>\n",
       "      <th>show_id</th>\n",
       "      <th>type</th>\n",
       "      <th>title</th>\n",
       "      <th>director</th>\n",
       "      <th>country</th>\n",
       "      <th>date_added</th>\n",
       "      <th>release_year</th>\n",
       "      <th>rating</th>\n",
       "      <th>duration</th>\n",
       "      <th>listed_in</th>\n",
       "    </tr>\n",
       "  </thead>\n",
       "  <tbody>\n",
       "    <tr>\n",
       "      <th>0</th>\n",
       "      <td>s1</td>\n",
       "      <td>Movie</td>\n",
       "      <td>Dick Johnson Is Dead</td>\n",
       "      <td>Kirsten Johnson</td>\n",
       "      <td>United States</td>\n",
       "      <td>9/25/2021</td>\n",
       "      <td>2020</td>\n",
       "      <td>PG-13</td>\n",
       "      <td>90 min</td>\n",
       "      <td>Documentaries</td>\n",
       "    </tr>\n",
       "    <tr>\n",
       "      <th>1</th>\n",
       "      <td>s3</td>\n",
       "      <td>TV Show</td>\n",
       "      <td>Ganglands</td>\n",
       "      <td>Julien Leclercq</td>\n",
       "      <td>France</td>\n",
       "      <td>9/24/2021</td>\n",
       "      <td>2021</td>\n",
       "      <td>TV-MA</td>\n",
       "      <td>1 Season</td>\n",
       "      <td>Crime TV Shows, International TV Shows, TV Act...</td>\n",
       "    </tr>\n",
       "    <tr>\n",
       "      <th>2</th>\n",
       "      <td>s6</td>\n",
       "      <td>TV Show</td>\n",
       "      <td>Midnight Mass</td>\n",
       "      <td>Mike Flanagan</td>\n",
       "      <td>United States</td>\n",
       "      <td>9/24/2021</td>\n",
       "      <td>2021</td>\n",
       "      <td>TV-MA</td>\n",
       "      <td>1 Season</td>\n",
       "      <td>TV Dramas, TV Horror, TV Mysteries</td>\n",
       "    </tr>\n",
       "    <tr>\n",
       "      <th>3</th>\n",
       "      <td>s14</td>\n",
       "      <td>Movie</td>\n",
       "      <td>Confessions of an Invisible Girl</td>\n",
       "      <td>Bruno Garotti</td>\n",
       "      <td>Brazil</td>\n",
       "      <td>9/22/2021</td>\n",
       "      <td>2021</td>\n",
       "      <td>TV-PG</td>\n",
       "      <td>91 min</td>\n",
       "      <td>Children &amp; Family Movies, Comedies</td>\n",
       "    </tr>\n",
       "    <tr>\n",
       "      <th>4</th>\n",
       "      <td>s8</td>\n",
       "      <td>Movie</td>\n",
       "      <td>Sankofa</td>\n",
       "      <td>Haile Gerima</td>\n",
       "      <td>United States</td>\n",
       "      <td>9/24/2021</td>\n",
       "      <td>1993</td>\n",
       "      <td>TV-MA</td>\n",
       "      <td>125 min</td>\n",
       "      <td>Dramas, Independent Movies, International Movies</td>\n",
       "    </tr>\n",
       "    <tr>\n",
       "      <th>...</th>\n",
       "      <td>...</td>\n",
       "      <td>...</td>\n",
       "      <td>...</td>\n",
       "      <td>...</td>\n",
       "      <td>...</td>\n",
       "      <td>...</td>\n",
       "      <td>...</td>\n",
       "      <td>...</td>\n",
       "      <td>...</td>\n",
       "      <td>...</td>\n",
       "    </tr>\n",
       "    <tr>\n",
       "      <th>8785</th>\n",
       "      <td>s8797</td>\n",
       "      <td>TV Show</td>\n",
       "      <td>Yunus Emre</td>\n",
       "      <td>Not Given</td>\n",
       "      <td>Turkey</td>\n",
       "      <td>1/17/2017</td>\n",
       "      <td>2016</td>\n",
       "      <td>TV-PG</td>\n",
       "      <td>2 Seasons</td>\n",
       "      <td>International TV Shows, TV Dramas</td>\n",
       "    </tr>\n",
       "    <tr>\n",
       "      <th>8786</th>\n",
       "      <td>s8798</td>\n",
       "      <td>TV Show</td>\n",
       "      <td>Zak Storm</td>\n",
       "      <td>Not Given</td>\n",
       "      <td>United States</td>\n",
       "      <td>9/13/2018</td>\n",
       "      <td>2016</td>\n",
       "      <td>TV-Y7</td>\n",
       "      <td>3 Seasons</td>\n",
       "      <td>Kids' TV</td>\n",
       "    </tr>\n",
       "    <tr>\n",
       "      <th>8787</th>\n",
       "      <td>s8801</td>\n",
       "      <td>TV Show</td>\n",
       "      <td>Zindagi Gulzar Hai</td>\n",
       "      <td>Not Given</td>\n",
       "      <td>Pakistan</td>\n",
       "      <td>12/15/2016</td>\n",
       "      <td>2012</td>\n",
       "      <td>TV-PG</td>\n",
       "      <td>1 Season</td>\n",
       "      <td>International TV Shows, Romantic TV Shows, TV ...</td>\n",
       "    </tr>\n",
       "    <tr>\n",
       "      <th>8788</th>\n",
       "      <td>s8784</td>\n",
       "      <td>TV Show</td>\n",
       "      <td>Yoko</td>\n",
       "      <td>Not Given</td>\n",
       "      <td>Pakistan</td>\n",
       "      <td>6/23/2018</td>\n",
       "      <td>2016</td>\n",
       "      <td>TV-Y</td>\n",
       "      <td>1 Season</td>\n",
       "      <td>Kids' TV</td>\n",
       "    </tr>\n",
       "    <tr>\n",
       "      <th>8789</th>\n",
       "      <td>s8786</td>\n",
       "      <td>TV Show</td>\n",
       "      <td>YOM</td>\n",
       "      <td>Not Given</td>\n",
       "      <td>Pakistan</td>\n",
       "      <td>6/7/2018</td>\n",
       "      <td>2016</td>\n",
       "      <td>TV-Y7</td>\n",
       "      <td>1 Season</td>\n",
       "      <td>Kids' TV</td>\n",
       "    </tr>\n",
       "  </tbody>\n",
       "</table>\n",
       "<p>8790 rows × 10 columns</p>\n",
       "</div>"
      ],
      "text/plain": [
       "     show_id     type                             title         director  \\\n",
       "0         s1    Movie              Dick Johnson Is Dead  Kirsten Johnson   \n",
       "1         s3  TV Show                         Ganglands  Julien Leclercq   \n",
       "2         s6  TV Show                     Midnight Mass    Mike Flanagan   \n",
       "3        s14    Movie  Confessions of an Invisible Girl    Bruno Garotti   \n",
       "4         s8    Movie                           Sankofa     Haile Gerima   \n",
       "...      ...      ...                               ...              ...   \n",
       "8785   s8797  TV Show                        Yunus Emre        Not Given   \n",
       "8786   s8798  TV Show                         Zak Storm        Not Given   \n",
       "8787   s8801  TV Show                Zindagi Gulzar Hai        Not Given   \n",
       "8788   s8784  TV Show                              Yoko        Not Given   \n",
       "8789   s8786  TV Show                               YOM        Not Given   \n",
       "\n",
       "            country  date_added  release_year rating   duration  \\\n",
       "0     United States   9/25/2021          2020  PG-13     90 min   \n",
       "1            France   9/24/2021          2021  TV-MA   1 Season   \n",
       "2     United States   9/24/2021          2021  TV-MA   1 Season   \n",
       "3            Brazil   9/22/2021          2021  TV-PG     91 min   \n",
       "4     United States   9/24/2021          1993  TV-MA    125 min   \n",
       "...             ...         ...           ...    ...        ...   \n",
       "8785         Turkey   1/17/2017          2016  TV-PG  2 Seasons   \n",
       "8786  United States   9/13/2018          2016  TV-Y7  3 Seasons   \n",
       "8787       Pakistan  12/15/2016          2012  TV-PG   1 Season   \n",
       "8788       Pakistan   6/23/2018          2016   TV-Y   1 Season   \n",
       "8789       Pakistan    6/7/2018          2016  TV-Y7   1 Season   \n",
       "\n",
       "                                              listed_in  \n",
       "0                                         Documentaries  \n",
       "1     Crime TV Shows, International TV Shows, TV Act...  \n",
       "2                    TV Dramas, TV Horror, TV Mysteries  \n",
       "3                    Children & Family Movies, Comedies  \n",
       "4      Dramas, Independent Movies, International Movies  \n",
       "...                                                 ...  \n",
       "8785                  International TV Shows, TV Dramas  \n",
       "8786                                           Kids' TV  \n",
       "8787  International TV Shows, Romantic TV Shows, TV ...  \n",
       "8788                                           Kids' TV  \n",
       "8789                                           Kids' TV  \n",
       "\n",
       "[8790 rows x 10 columns]"
      ]
     },
     "execution_count": 8,
     "metadata": {},
     "output_type": "execute_result"
    }
   ],
   "source": [
    "df"
   ]
  },
  {
   "cell_type": "markdown",
   "id": "ab78cca8",
   "metadata": {},
   "source": [
    "# DATA PREPARATION"
   ]
  },
  {
   "cell_type": "code",
   "execution_count": 7,
   "id": "394115f6",
   "metadata": {},
   "outputs": [
    {
     "data": {
      "text/plain": [
       "show_id         0\n",
       "type            0\n",
       "title           0\n",
       "director        0\n",
       "country         0\n",
       "date_added      0\n",
       "release_year    0\n",
       "rating          0\n",
       "duration        0\n",
       "listed_in       0\n",
       "dtype: int64"
      ]
     },
     "execution_count": 7,
     "metadata": {},
     "output_type": "execute_result"
    }
   ],
   "source": [
    "df.isnull().sum()"
   ]
  },
  {
   "cell_type": "markdown",
   "id": "1f22a685",
   "metadata": {},
   "source": [
    "- Detects duplicate entries that may skew our analysis.\n",
    "\n",
    "- Helps ensure the integrity and quality of our data before proceeding with further steps."
   ]
  },
  {
   "cell_type": "code",
   "execution_count": 6,
   "id": "50ceb55f",
   "metadata": {},
   "outputs": [
    {
     "data": {
      "text/plain": [
       "0"
      ]
     },
     "execution_count": 6,
     "metadata": {},
     "output_type": "execute_result"
    }
   ],
   "source": [
    "df.duplicated().sum()"
   ]
  },
  {
   "cell_type": "markdown",
   "id": "5364bca9",
   "metadata": {},
   "source": [
    "- It retrieves the entire Series of country data from the dataset.\n",
    "\n",
    "- This column typically contains the name of the country where the content (movie or TV show) was produced."
   ]
  },
  {
   "cell_type": "code",
   "execution_count": 4,
   "id": "56449fbb",
   "metadata": {},
   "outputs": [
    {
     "data": {
      "text/plain": [
       "0       United States\n",
       "1              France\n",
       "2       United States\n",
       "3              Brazil\n",
       "4       United States\n",
       "            ...      \n",
       "8785           Turkey\n",
       "8786    United States\n",
       "8787         Pakistan\n",
       "8788         Pakistan\n",
       "8789         Pakistan\n",
       "Name: country, Length: 8790, dtype: object"
      ]
     },
     "execution_count": 4,
     "metadata": {},
     "output_type": "execute_result"
    }
   ],
   "source": [
    "df[\"country\"]"
   ]
  },
  {
   "cell_type": "markdown",
   "id": "e0014ebb",
   "metadata": {},
   "source": [
    "This column typically contains values like \"Movie\" or \"TV Show\" to indicate the type of content on Netflix."
   ]
  },
  {
   "cell_type": "code",
   "execution_count": 27,
   "id": "53a65019",
   "metadata": {},
   "outputs": [
    {
     "data": {
      "text/plain": [
       "0         Movie\n",
       "1       TV Show\n",
       "2       TV Show\n",
       "3         Movie\n",
       "4         Movie\n",
       "         ...   \n",
       "8785    TV Show\n",
       "8786    TV Show\n",
       "8787    TV Show\n",
       "8788    TV Show\n",
       "8789    TV Show\n",
       "Name: type, Length: 8790, dtype: object"
      ]
     },
     "execution_count": 27,
     "metadata": {},
     "output_type": "execute_result"
    }
   ],
   "source": [
    "df[\"type\"]"
   ]
  },
  {
   "cell_type": "markdown",
   "id": "a21d0a91",
   "metadata": {},
   "source": [
    "This displays the entire contents of the DataFrame in the console (or at least the first and last few rows if it’s large).\n",
    "\n",
    "You'll see all columns such as show_id, type, title, director, cast, country, date_added, release_year, rating, duration, listed_in, and description.\n",
    "\n"
   ]
  },
  {
   "cell_type": "code",
   "execution_count": 28,
   "id": "af642729",
   "metadata": {},
   "outputs": [
    {
     "name": "stdout",
     "output_type": "stream",
     "text": [
      "     show_id     type                             title         director  \\\n",
      "0         s1    Movie              Dick Johnson Is Dead  Kirsten Johnson   \n",
      "1         s3  TV Show                         Ganglands  Julien Leclercq   \n",
      "2         s6  TV Show                     Midnight Mass    Mike Flanagan   \n",
      "3        s14    Movie  Confessions of an Invisible Girl    Bruno Garotti   \n",
      "4         s8    Movie                           Sankofa     Haile Gerima   \n",
      "...      ...      ...                               ...              ...   \n",
      "8785   s8797  TV Show                        Yunus Emre        Not Given   \n",
      "8786   s8798  TV Show                         Zak Storm        Not Given   \n",
      "8787   s8801  TV Show                Zindagi Gulzar Hai        Not Given   \n",
      "8788   s8784  TV Show                              Yoko        Not Given   \n",
      "8789   s8786  TV Show                               YOM        Not Given   \n",
      "\n",
      "            country  date_added  release_year rating   duration  \\\n",
      "0     United States   9/25/2021          2020  PG-13     90 min   \n",
      "1            France   9/24/2021          2021  TV-MA   1 Season   \n",
      "2     United States   9/24/2021          2021  TV-MA   1 Season   \n",
      "3            Brazil   9/22/2021          2021  TV-PG     91 min   \n",
      "4     United States   9/24/2021          1993  TV-MA    125 min   \n",
      "...             ...         ...           ...    ...        ...   \n",
      "8785         Turkey   1/17/2017          2016  TV-PG  2 Seasons   \n",
      "8786  United States   9/13/2018          2016  TV-Y7  3 Seasons   \n",
      "8787       Pakistan  12/15/2016          2012  TV-PG   1 Season   \n",
      "8788       Pakistan   6/23/2018          2016   TV-Y   1 Season   \n",
      "8789       Pakistan    6/7/2018          2016  TV-Y7   1 Season   \n",
      "\n",
      "                                              listed_in  \n",
      "0                                         Documentaries  \n",
      "1     Crime TV Shows, International TV Shows, TV Act...  \n",
      "2                    TV Dramas, TV Horror, TV Mysteries  \n",
      "3                    Children & Family Movies, Comedies  \n",
      "4      Dramas, Independent Movies, International Movies  \n",
      "...                                                 ...  \n",
      "8785                  International TV Shows, TV Dramas  \n",
      "8786                                           Kids' TV  \n",
      "8787  International TV Shows, Romantic TV Shows, TV ...  \n",
      "8788                                           Kids' TV  \n",
      "8789                                           Kids' TV  \n",
      "\n",
      "[8790 rows x 10 columns]\n"
     ]
    }
   ],
   "source": [
    "df = pd.read_csv(\"netflix1.csv\")\n",
    "print(df)"
   ]
  },
  {
   "cell_type": "code",
   "execution_count": 29,
   "id": "526df084",
   "metadata": {},
   "outputs": [
    {
     "name": "stdout",
     "output_type": "stream",
     "text": [
      "<class 'pandas.core.frame.DataFrame'>\n",
      "RangeIndex: 8790 entries, 0 to 8789\n",
      "Data columns (total 10 columns):\n",
      " #   Column        Non-Null Count  Dtype \n",
      "---  ------        --------------  ----- \n",
      " 0   show_id       8790 non-null   object\n",
      " 1   type          8790 non-null   object\n",
      " 2   title         8790 non-null   object\n",
      " 3   director      8790 non-null   object\n",
      " 4   country       8790 non-null   object\n",
      " 5   date_added    8790 non-null   object\n",
      " 6   release_year  8790 non-null   int64 \n",
      " 7   rating        8790 non-null   object\n",
      " 8   duration      8790 non-null   object\n",
      " 9   listed_in     8790 non-null   object\n",
      "dtypes: int64(1), object(9)\n",
      "memory usage: 686.8+ KB\n"
     ]
    }
   ],
   "source": [
    "df.info()"
   ]
  },
  {
   "cell_type": "code",
   "execution_count": 30,
   "id": "6c277e83",
   "metadata": {},
   "outputs": [
    {
     "data": {
      "text/plain": [
       "<bound method NDFrame.describe of      show_id     type                             title         director  \\\n",
       "0         s1    Movie              Dick Johnson Is Dead  Kirsten Johnson   \n",
       "1         s3  TV Show                         Ganglands  Julien Leclercq   \n",
       "2         s6  TV Show                     Midnight Mass    Mike Flanagan   \n",
       "3        s14    Movie  Confessions of an Invisible Girl    Bruno Garotti   \n",
       "4         s8    Movie                           Sankofa     Haile Gerima   \n",
       "...      ...      ...                               ...              ...   \n",
       "8785   s8797  TV Show                        Yunus Emre        Not Given   \n",
       "8786   s8798  TV Show                         Zak Storm        Not Given   \n",
       "8787   s8801  TV Show                Zindagi Gulzar Hai        Not Given   \n",
       "8788   s8784  TV Show                              Yoko        Not Given   \n",
       "8789   s8786  TV Show                               YOM        Not Given   \n",
       "\n",
       "            country  date_added  release_year rating   duration  \\\n",
       "0     United States   9/25/2021          2020  PG-13     90 min   \n",
       "1            France   9/24/2021          2021  TV-MA   1 Season   \n",
       "2     United States   9/24/2021          2021  TV-MA   1 Season   \n",
       "3            Brazil   9/22/2021          2021  TV-PG     91 min   \n",
       "4     United States   9/24/2021          1993  TV-MA    125 min   \n",
       "...             ...         ...           ...    ...        ...   \n",
       "8785         Turkey   1/17/2017          2016  TV-PG  2 Seasons   \n",
       "8786  United States   9/13/2018          2016  TV-Y7  3 Seasons   \n",
       "8787       Pakistan  12/15/2016          2012  TV-PG   1 Season   \n",
       "8788       Pakistan   6/23/2018          2016   TV-Y   1 Season   \n",
       "8789       Pakistan    6/7/2018          2016  TV-Y7   1 Season   \n",
       "\n",
       "                                              listed_in  \n",
       "0                                         Documentaries  \n",
       "1     Crime TV Shows, International TV Shows, TV Act...  \n",
       "2                    TV Dramas, TV Horror, TV Mysteries  \n",
       "3                    Children & Family Movies, Comedies  \n",
       "4      Dramas, Independent Movies, International Movies  \n",
       "...                                                 ...  \n",
       "8785                  International TV Shows, TV Dramas  \n",
       "8786                                           Kids' TV  \n",
       "8787  International TV Shows, Romantic TV Shows, TV ...  \n",
       "8788                                           Kids' TV  \n",
       "8789                                           Kids' TV  \n",
       "\n",
       "[8790 rows x 10 columns]>"
      ]
     },
     "execution_count": 30,
     "metadata": {},
     "output_type": "execute_result"
    }
   ],
   "source": [
    "df.describe"
   ]
  },
  {
   "cell_type": "code",
   "execution_count": 31,
   "id": "885a754f",
   "metadata": {},
   "outputs": [
    {
     "data": {
      "text/html": [
       "<div>\n",
       "<style scoped>\n",
       "    .dataframe tbody tr th:only-of-type {\n",
       "        vertical-align: middle;\n",
       "    }\n",
       "\n",
       "    .dataframe tbody tr th {\n",
       "        vertical-align: top;\n",
       "    }\n",
       "\n",
       "    .dataframe thead th {\n",
       "        text-align: right;\n",
       "    }\n",
       "</style>\n",
       "<table border=\"1\" class=\"dataframe\">\n",
       "  <thead>\n",
       "    <tr style=\"text-align: right;\">\n",
       "      <th></th>\n",
       "      <th>show_id</th>\n",
       "      <th>type</th>\n",
       "      <th>title</th>\n",
       "      <th>director</th>\n",
       "      <th>country</th>\n",
       "      <th>date_added</th>\n",
       "      <th>release_year</th>\n",
       "      <th>rating</th>\n",
       "      <th>duration</th>\n",
       "      <th>listed_in</th>\n",
       "    </tr>\n",
       "  </thead>\n",
       "  <tbody>\n",
       "    <tr>\n",
       "      <th>0</th>\n",
       "      <td>s1</td>\n",
       "      <td>Movie</td>\n",
       "      <td>Dick Johnson Is Dead</td>\n",
       "      <td>Kirsten Johnson</td>\n",
       "      <td>United States</td>\n",
       "      <td>9/25/2021</td>\n",
       "      <td>2020</td>\n",
       "      <td>PG-13</td>\n",
       "      <td>90 min</td>\n",
       "      <td>Documentaries</td>\n",
       "    </tr>\n",
       "    <tr>\n",
       "      <th>1</th>\n",
       "      <td>s3</td>\n",
       "      <td>TV Show</td>\n",
       "      <td>Ganglands</td>\n",
       "      <td>Julien Leclercq</td>\n",
       "      <td>France</td>\n",
       "      <td>9/24/2021</td>\n",
       "      <td>2021</td>\n",
       "      <td>TV-MA</td>\n",
       "      <td>1 Season</td>\n",
       "      <td>Crime TV Shows, International TV Shows, TV Act...</td>\n",
       "    </tr>\n",
       "    <tr>\n",
       "      <th>2</th>\n",
       "      <td>s6</td>\n",
       "      <td>TV Show</td>\n",
       "      <td>Midnight Mass</td>\n",
       "      <td>Mike Flanagan</td>\n",
       "      <td>United States</td>\n",
       "      <td>9/24/2021</td>\n",
       "      <td>2021</td>\n",
       "      <td>TV-MA</td>\n",
       "      <td>1 Season</td>\n",
       "      <td>TV Dramas, TV Horror, TV Mysteries</td>\n",
       "    </tr>\n",
       "    <tr>\n",
       "      <th>3</th>\n",
       "      <td>s14</td>\n",
       "      <td>Movie</td>\n",
       "      <td>Confessions of an Invisible Girl</td>\n",
       "      <td>Bruno Garotti</td>\n",
       "      <td>Brazil</td>\n",
       "      <td>9/22/2021</td>\n",
       "      <td>2021</td>\n",
       "      <td>TV-PG</td>\n",
       "      <td>91 min</td>\n",
       "      <td>Children &amp; Family Movies, Comedies</td>\n",
       "    </tr>\n",
       "    <tr>\n",
       "      <th>4</th>\n",
       "      <td>s8</td>\n",
       "      <td>Movie</td>\n",
       "      <td>Sankofa</td>\n",
       "      <td>Haile Gerima</td>\n",
       "      <td>United States</td>\n",
       "      <td>9/24/2021</td>\n",
       "      <td>1993</td>\n",
       "      <td>TV-MA</td>\n",
       "      <td>125 min</td>\n",
       "      <td>Dramas, Independent Movies, International Movies</td>\n",
       "    </tr>\n",
       "  </tbody>\n",
       "</table>\n",
       "</div>"
      ],
      "text/plain": [
       "  show_id     type                             title         director  \\\n",
       "0      s1    Movie              Dick Johnson Is Dead  Kirsten Johnson   \n",
       "1      s3  TV Show                         Ganglands  Julien Leclercq   \n",
       "2      s6  TV Show                     Midnight Mass    Mike Flanagan   \n",
       "3     s14    Movie  Confessions of an Invisible Girl    Bruno Garotti   \n",
       "4      s8    Movie                           Sankofa     Haile Gerima   \n",
       "\n",
       "         country date_added  release_year rating  duration  \\\n",
       "0  United States  9/25/2021          2020  PG-13    90 min   \n",
       "1         France  9/24/2021          2021  TV-MA  1 Season   \n",
       "2  United States  9/24/2021          2021  TV-MA  1 Season   \n",
       "3         Brazil  9/22/2021          2021  TV-PG    91 min   \n",
       "4  United States  9/24/2021          1993  TV-MA   125 min   \n",
       "\n",
       "                                           listed_in  \n",
       "0                                      Documentaries  \n",
       "1  Crime TV Shows, International TV Shows, TV Act...  \n",
       "2                 TV Dramas, TV Horror, TV Mysteries  \n",
       "3                 Children & Family Movies, Comedies  \n",
       "4   Dramas, Independent Movies, International Movies  "
      ]
     },
     "execution_count": 31,
     "metadata": {},
     "output_type": "execute_result"
    }
   ],
   "source": [
    "df.head()"
   ]
  },
  {
   "cell_type": "code",
   "execution_count": 32,
   "id": "e7fcc521",
   "metadata": {},
   "outputs": [
    {
     "data": {
      "text/html": [
       "<div>\n",
       "<style scoped>\n",
       "    .dataframe tbody tr th:only-of-type {\n",
       "        vertical-align: middle;\n",
       "    }\n",
       "\n",
       "    .dataframe tbody tr th {\n",
       "        vertical-align: top;\n",
       "    }\n",
       "\n",
       "    .dataframe thead th {\n",
       "        text-align: right;\n",
       "    }\n",
       "</style>\n",
       "<table border=\"1\" class=\"dataframe\">\n",
       "  <thead>\n",
       "    <tr style=\"text-align: right;\">\n",
       "      <th></th>\n",
       "      <th>show_id</th>\n",
       "      <th>type</th>\n",
       "      <th>title</th>\n",
       "      <th>director</th>\n",
       "      <th>country</th>\n",
       "      <th>date_added</th>\n",
       "      <th>release_year</th>\n",
       "      <th>rating</th>\n",
       "      <th>duration</th>\n",
       "      <th>listed_in</th>\n",
       "    </tr>\n",
       "  </thead>\n",
       "  <tbody>\n",
       "    <tr>\n",
       "      <th>8785</th>\n",
       "      <td>s8797</td>\n",
       "      <td>TV Show</td>\n",
       "      <td>Yunus Emre</td>\n",
       "      <td>Not Given</td>\n",
       "      <td>Turkey</td>\n",
       "      <td>1/17/2017</td>\n",
       "      <td>2016</td>\n",
       "      <td>TV-PG</td>\n",
       "      <td>2 Seasons</td>\n",
       "      <td>International TV Shows, TV Dramas</td>\n",
       "    </tr>\n",
       "    <tr>\n",
       "      <th>8786</th>\n",
       "      <td>s8798</td>\n",
       "      <td>TV Show</td>\n",
       "      <td>Zak Storm</td>\n",
       "      <td>Not Given</td>\n",
       "      <td>United States</td>\n",
       "      <td>9/13/2018</td>\n",
       "      <td>2016</td>\n",
       "      <td>TV-Y7</td>\n",
       "      <td>3 Seasons</td>\n",
       "      <td>Kids' TV</td>\n",
       "    </tr>\n",
       "    <tr>\n",
       "      <th>8787</th>\n",
       "      <td>s8801</td>\n",
       "      <td>TV Show</td>\n",
       "      <td>Zindagi Gulzar Hai</td>\n",
       "      <td>Not Given</td>\n",
       "      <td>Pakistan</td>\n",
       "      <td>12/15/2016</td>\n",
       "      <td>2012</td>\n",
       "      <td>TV-PG</td>\n",
       "      <td>1 Season</td>\n",
       "      <td>International TV Shows, Romantic TV Shows, TV ...</td>\n",
       "    </tr>\n",
       "    <tr>\n",
       "      <th>8788</th>\n",
       "      <td>s8784</td>\n",
       "      <td>TV Show</td>\n",
       "      <td>Yoko</td>\n",
       "      <td>Not Given</td>\n",
       "      <td>Pakistan</td>\n",
       "      <td>6/23/2018</td>\n",
       "      <td>2016</td>\n",
       "      <td>TV-Y</td>\n",
       "      <td>1 Season</td>\n",
       "      <td>Kids' TV</td>\n",
       "    </tr>\n",
       "    <tr>\n",
       "      <th>8789</th>\n",
       "      <td>s8786</td>\n",
       "      <td>TV Show</td>\n",
       "      <td>YOM</td>\n",
       "      <td>Not Given</td>\n",
       "      <td>Pakistan</td>\n",
       "      <td>6/7/2018</td>\n",
       "      <td>2016</td>\n",
       "      <td>TV-Y7</td>\n",
       "      <td>1 Season</td>\n",
       "      <td>Kids' TV</td>\n",
       "    </tr>\n",
       "  </tbody>\n",
       "</table>\n",
       "</div>"
      ],
      "text/plain": [
       "     show_id     type               title   director        country  \\\n",
       "8785   s8797  TV Show          Yunus Emre  Not Given         Turkey   \n",
       "8786   s8798  TV Show           Zak Storm  Not Given  United States   \n",
       "8787   s8801  TV Show  Zindagi Gulzar Hai  Not Given       Pakistan   \n",
       "8788   s8784  TV Show                Yoko  Not Given       Pakistan   \n",
       "8789   s8786  TV Show                 YOM  Not Given       Pakistan   \n",
       "\n",
       "      date_added  release_year rating   duration  \\\n",
       "8785   1/17/2017          2016  TV-PG  2 Seasons   \n",
       "8786   9/13/2018          2016  TV-Y7  3 Seasons   \n",
       "8787  12/15/2016          2012  TV-PG   1 Season   \n",
       "8788   6/23/2018          2016   TV-Y   1 Season   \n",
       "8789    6/7/2018          2016  TV-Y7   1 Season   \n",
       "\n",
       "                                              listed_in  \n",
       "8785                  International TV Shows, TV Dramas  \n",
       "8786                                           Kids' TV  \n",
       "8787  International TV Shows, Romantic TV Shows, TV ...  \n",
       "8788                                           Kids' TV  \n",
       "8789                                           Kids' TV  "
      ]
     },
     "execution_count": 32,
     "metadata": {},
     "output_type": "execute_result"
    }
   ],
   "source": [
    "df.tail()"
   ]
  },
  {
   "cell_type": "code",
   "execution_count": 33,
   "id": "9d378b0d",
   "metadata": {},
   "outputs": [
    {
     "data": {
      "text/plain": [
       "0         Movie\n",
       "1       TV Show\n",
       "2       TV Show\n",
       "3         Movie\n",
       "4         Movie\n",
       "         ...   \n",
       "8785    TV Show\n",
       "8786    TV Show\n",
       "8787    TV Show\n",
       "8788    TV Show\n",
       "8789    TV Show\n",
       "Name: type, Length: 8790, dtype: object"
      ]
     },
     "execution_count": 33,
     "metadata": {},
     "output_type": "execute_result"
    }
   ],
   "source": [
    "df[\"type\"]"
   ]
  },
  {
   "cell_type": "code",
   "execution_count": 34,
   "id": "825e8e20",
   "metadata": {},
   "outputs": [
    {
     "data": {
      "text/html": [
       "<div>\n",
       "<style scoped>\n",
       "    .dataframe tbody tr th:only-of-type {\n",
       "        vertical-align: middle;\n",
       "    }\n",
       "\n",
       "    .dataframe tbody tr th {\n",
       "        vertical-align: top;\n",
       "    }\n",
       "\n",
       "    .dataframe thead th {\n",
       "        text-align: right;\n",
       "    }\n",
       "</style>\n",
       "<table border=\"1\" class=\"dataframe\">\n",
       "  <thead>\n",
       "    <tr style=\"text-align: right;\">\n",
       "      <th></th>\n",
       "      <th>type</th>\n",
       "      <th>country</th>\n",
       "      <th>rating</th>\n",
       "      <th>duration</th>\n",
       "    </tr>\n",
       "  </thead>\n",
       "  <tbody>\n",
       "    <tr>\n",
       "      <th>0</th>\n",
       "      <td>Movie</td>\n",
       "      <td>United States</td>\n",
       "      <td>PG-13</td>\n",
       "      <td>90 min</td>\n",
       "    </tr>\n",
       "    <tr>\n",
       "      <th>1</th>\n",
       "      <td>TV Show</td>\n",
       "      <td>France</td>\n",
       "      <td>TV-MA</td>\n",
       "      <td>1 Season</td>\n",
       "    </tr>\n",
       "    <tr>\n",
       "      <th>2</th>\n",
       "      <td>TV Show</td>\n",
       "      <td>United States</td>\n",
       "      <td>TV-MA</td>\n",
       "      <td>1 Season</td>\n",
       "    </tr>\n",
       "    <tr>\n",
       "      <th>3</th>\n",
       "      <td>Movie</td>\n",
       "      <td>Brazil</td>\n",
       "      <td>TV-PG</td>\n",
       "      <td>91 min</td>\n",
       "    </tr>\n",
       "    <tr>\n",
       "      <th>4</th>\n",
       "      <td>Movie</td>\n",
       "      <td>United States</td>\n",
       "      <td>TV-MA</td>\n",
       "      <td>125 min</td>\n",
       "    </tr>\n",
       "    <tr>\n",
       "      <th>...</th>\n",
       "      <td>...</td>\n",
       "      <td>...</td>\n",
       "      <td>...</td>\n",
       "      <td>...</td>\n",
       "    </tr>\n",
       "    <tr>\n",
       "      <th>8785</th>\n",
       "      <td>TV Show</td>\n",
       "      <td>Turkey</td>\n",
       "      <td>TV-PG</td>\n",
       "      <td>2 Seasons</td>\n",
       "    </tr>\n",
       "    <tr>\n",
       "      <th>8786</th>\n",
       "      <td>TV Show</td>\n",
       "      <td>United States</td>\n",
       "      <td>TV-Y7</td>\n",
       "      <td>3 Seasons</td>\n",
       "    </tr>\n",
       "    <tr>\n",
       "      <th>8787</th>\n",
       "      <td>TV Show</td>\n",
       "      <td>Pakistan</td>\n",
       "      <td>TV-PG</td>\n",
       "      <td>1 Season</td>\n",
       "    </tr>\n",
       "    <tr>\n",
       "      <th>8788</th>\n",
       "      <td>TV Show</td>\n",
       "      <td>Pakistan</td>\n",
       "      <td>TV-Y</td>\n",
       "      <td>1 Season</td>\n",
       "    </tr>\n",
       "    <tr>\n",
       "      <th>8789</th>\n",
       "      <td>TV Show</td>\n",
       "      <td>Pakistan</td>\n",
       "      <td>TV-Y7</td>\n",
       "      <td>1 Season</td>\n",
       "    </tr>\n",
       "  </tbody>\n",
       "</table>\n",
       "<p>8790 rows × 4 columns</p>\n",
       "</div>"
      ],
      "text/plain": [
       "         type        country rating   duration\n",
       "0       Movie  United States  PG-13     90 min\n",
       "1     TV Show         France  TV-MA   1 Season\n",
       "2     TV Show  United States  TV-MA   1 Season\n",
       "3       Movie         Brazil  TV-PG     91 min\n",
       "4       Movie  United States  TV-MA    125 min\n",
       "...       ...            ...    ...        ...\n",
       "8785  TV Show         Turkey  TV-PG  2 Seasons\n",
       "8786  TV Show  United States  TV-Y7  3 Seasons\n",
       "8787  TV Show       Pakistan  TV-PG   1 Season\n",
       "8788  TV Show       Pakistan   TV-Y   1 Season\n",
       "8789  TV Show       Pakistan  TV-Y7   1 Season\n",
       "\n",
       "[8790 rows x 4 columns]"
      ]
     },
     "execution_count": 34,
     "metadata": {},
     "output_type": "execute_result"
    }
   ],
   "source": [
    "df[[\"type\",\"country\",\"rating\",\"duration\"]]"
   ]
  },
  {
   "cell_type": "code",
   "execution_count": 35,
   "id": "56e58258",
   "metadata": {},
   "outputs": [
    {
     "data": {
      "text/html": [
       "<div>\n",
       "<style scoped>\n",
       "    .dataframe tbody tr th:only-of-type {\n",
       "        vertical-align: middle;\n",
       "    }\n",
       "\n",
       "    .dataframe tbody tr th {\n",
       "        vertical-align: top;\n",
       "    }\n",
       "\n",
       "    .dataframe thead th {\n",
       "        text-align: right;\n",
       "    }\n",
       "</style>\n",
       "<table border=\"1\" class=\"dataframe\">\n",
       "  <thead>\n",
       "    <tr style=\"text-align: right;\">\n",
       "      <th></th>\n",
       "      <th>show_id</th>\n",
       "      <th>type</th>\n",
       "      <th>title</th>\n",
       "      <th>director</th>\n",
       "      <th>country</th>\n",
       "      <th>date_added</th>\n",
       "      <th>release_year</th>\n",
       "      <th>rating</th>\n",
       "      <th>duration</th>\n",
       "      <th>listed_in</th>\n",
       "    </tr>\n",
       "  </thead>\n",
       "  <tbody>\n",
       "    <tr>\n",
       "      <th>1</th>\n",
       "      <td>s3</td>\n",
       "      <td>TV Show</td>\n",
       "      <td>Ganglands</td>\n",
       "      <td>Julien Leclercq</td>\n",
       "      <td>France</td>\n",
       "      <td>9/24/2021</td>\n",
       "      <td>2021</td>\n",
       "      <td>TV-MA</td>\n",
       "      <td>1 Season</td>\n",
       "      <td>Crime TV Shows, International TV Shows, TV Act...</td>\n",
       "    </tr>\n",
       "    <tr>\n",
       "      <th>2</th>\n",
       "      <td>s6</td>\n",
       "      <td>TV Show</td>\n",
       "      <td>Midnight Mass</td>\n",
       "      <td>Mike Flanagan</td>\n",
       "      <td>United States</td>\n",
       "      <td>9/24/2021</td>\n",
       "      <td>2021</td>\n",
       "      <td>TV-MA</td>\n",
       "      <td>1 Season</td>\n",
       "      <td>TV Dramas, TV Horror, TV Mysteries</td>\n",
       "    </tr>\n",
       "    <tr>\n",
       "      <th>4</th>\n",
       "      <td>s8</td>\n",
       "      <td>Movie</td>\n",
       "      <td>Sankofa</td>\n",
       "      <td>Haile Gerima</td>\n",
       "      <td>United States</td>\n",
       "      <td>9/24/2021</td>\n",
       "      <td>1993</td>\n",
       "      <td>TV-MA</td>\n",
       "      <td>125 min</td>\n",
       "      <td>Dramas, Independent Movies, International Movies</td>\n",
       "    </tr>\n",
       "    <tr>\n",
       "      <th>8</th>\n",
       "      <td>s13</td>\n",
       "      <td>Movie</td>\n",
       "      <td>Je Suis Karl</td>\n",
       "      <td>Christian Schwochow</td>\n",
       "      <td>Germany</td>\n",
       "      <td>9/23/2021</td>\n",
       "      <td>2021</td>\n",
       "      <td>TV-MA</td>\n",
       "      <td>127 min</td>\n",
       "      <td>Dramas, International Movies</td>\n",
       "    </tr>\n",
       "    <tr>\n",
       "      <th>14</th>\n",
       "      <td>s730</td>\n",
       "      <td>Movie</td>\n",
       "      <td>Bling Empire - The Afterparty</td>\n",
       "      <td>Krysia Plonka, Kristian Mercado</td>\n",
       "      <td>United States</td>\n",
       "      <td>6/12/2021</td>\n",
       "      <td>2021</td>\n",
       "      <td>TV-MA</td>\n",
       "      <td>36 min</td>\n",
       "      <td>Movies</td>\n",
       "    </tr>\n",
       "    <tr>\n",
       "      <th>...</th>\n",
       "      <td>...</td>\n",
       "      <td>...</td>\n",
       "      <td>...</td>\n",
       "      <td>...</td>\n",
       "      <td>...</td>\n",
       "      <td>...</td>\n",
       "      <td>...</td>\n",
       "      <td>...</td>\n",
       "      <td>...</td>\n",
       "      <td>...</td>\n",
       "    </tr>\n",
       "    <tr>\n",
       "      <th>8759</th>\n",
       "      <td>s8606</td>\n",
       "      <td>TV Show</td>\n",
       "      <td>Top Grier</td>\n",
       "      <td>Not Given</td>\n",
       "      <td>United States</td>\n",
       "      <td>12/31/2018</td>\n",
       "      <td>2018</td>\n",
       "      <td>TV-MA</td>\n",
       "      <td>3 Seasons</td>\n",
       "      <td>Reality TV</td>\n",
       "    </tr>\n",
       "    <tr>\n",
       "      <th>8760</th>\n",
       "      <td>s8634</td>\n",
       "      <td>TV Show</td>\n",
       "      <td>Trotsky</td>\n",
       "      <td>Not Given</td>\n",
       "      <td>Russia</td>\n",
       "      <td>12/10/2018</td>\n",
       "      <td>2017</td>\n",
       "      <td>TV-MA</td>\n",
       "      <td>1 Season</td>\n",
       "      <td>International TV Shows, TV Dramas</td>\n",
       "    </tr>\n",
       "    <tr>\n",
       "      <th>8767</th>\n",
       "      <td>s8701</td>\n",
       "      <td>TV Show</td>\n",
       "      <td>Wartime Portraits</td>\n",
       "      <td>Not Given</td>\n",
       "      <td>Poland</td>\n",
       "      <td>9/15/2016</td>\n",
       "      <td>2014</td>\n",
       "      <td>TV-MA</td>\n",
       "      <td>1 Season</td>\n",
       "      <td>Docuseries, International TV Shows</td>\n",
       "    </tr>\n",
       "    <tr>\n",
       "      <th>8768</th>\n",
       "      <td>s8711</td>\n",
       "      <td>TV Show</td>\n",
       "      <td>Weeds</td>\n",
       "      <td>Not Given</td>\n",
       "      <td>United States</td>\n",
       "      <td>4/1/2014</td>\n",
       "      <td>2012</td>\n",
       "      <td>TV-MA</td>\n",
       "      <td>8 Seasons</td>\n",
       "      <td>TV Comedies, TV Dramas</td>\n",
       "    </tr>\n",
       "    <tr>\n",
       "      <th>8778</th>\n",
       "      <td>s8750</td>\n",
       "      <td>TV Show</td>\n",
       "      <td>Winter Sun</td>\n",
       "      <td>Not Given</td>\n",
       "      <td>Turkey</td>\n",
       "      <td>8/1/2017</td>\n",
       "      <td>2014</td>\n",
       "      <td>TV-MA</td>\n",
       "      <td>1 Season</td>\n",
       "      <td>International TV Shows, TV Dramas, TV Thrillers</td>\n",
       "    </tr>\n",
       "  </tbody>\n",
       "</table>\n",
       "<p>3205 rows × 10 columns</p>\n",
       "</div>"
      ],
      "text/plain": [
       "     show_id     type                          title  \\\n",
       "1         s3  TV Show                      Ganglands   \n",
       "2         s6  TV Show                  Midnight Mass   \n",
       "4         s8    Movie                        Sankofa   \n",
       "8        s13    Movie                   Je Suis Karl   \n",
       "14      s730    Movie  Bling Empire - The Afterparty   \n",
       "...      ...      ...                            ...   \n",
       "8759   s8606  TV Show                      Top Grier   \n",
       "8760   s8634  TV Show                        Trotsky   \n",
       "8767   s8701  TV Show              Wartime Portraits   \n",
       "8768   s8711  TV Show                          Weeds   \n",
       "8778   s8750  TV Show                     Winter Sun   \n",
       "\n",
       "                             director        country  date_added  \\\n",
       "1                     Julien Leclercq         France   9/24/2021   \n",
       "2                       Mike Flanagan  United States   9/24/2021   \n",
       "4                        Haile Gerima  United States   9/24/2021   \n",
       "8                 Christian Schwochow        Germany   9/23/2021   \n",
       "14    Krysia Plonka, Kristian Mercado  United States   6/12/2021   \n",
       "...                               ...            ...         ...   \n",
       "8759                        Not Given  United States  12/31/2018   \n",
       "8760                        Not Given         Russia  12/10/2018   \n",
       "8767                        Not Given         Poland   9/15/2016   \n",
       "8768                        Not Given  United States    4/1/2014   \n",
       "8778                        Not Given         Turkey    8/1/2017   \n",
       "\n",
       "      release_year rating   duration  \\\n",
       "1             2021  TV-MA   1 Season   \n",
       "2             2021  TV-MA   1 Season   \n",
       "4             1993  TV-MA    125 min   \n",
       "8             2021  TV-MA    127 min   \n",
       "14            2021  TV-MA     36 min   \n",
       "...            ...    ...        ...   \n",
       "8759          2018  TV-MA  3 Seasons   \n",
       "8760          2017  TV-MA   1 Season   \n",
       "8767          2014  TV-MA   1 Season   \n",
       "8768          2012  TV-MA  8 Seasons   \n",
       "8778          2014  TV-MA   1 Season   \n",
       "\n",
       "                                              listed_in  \n",
       "1     Crime TV Shows, International TV Shows, TV Act...  \n",
       "2                    TV Dramas, TV Horror, TV Mysteries  \n",
       "4      Dramas, Independent Movies, International Movies  \n",
       "8                          Dramas, International Movies  \n",
       "14                                               Movies  \n",
       "...                                                 ...  \n",
       "8759                                         Reality TV  \n",
       "8760                  International TV Shows, TV Dramas  \n",
       "8767                 Docuseries, International TV Shows  \n",
       "8768                             TV Comedies, TV Dramas  \n",
       "8778    International TV Shows, TV Dramas, TV Thrillers  \n",
       "\n",
       "[3205 rows x 10 columns]"
      ]
     },
     "execution_count": 35,
     "metadata": {},
     "output_type": "execute_result"
    }
   ],
   "source": [
    "df[df['rating'] == 'TV-MA']"
   ]
  },
  {
   "cell_type": "code",
   "execution_count": 36,
   "id": "e7c28dda",
   "metadata": {},
   "outputs": [
    {
     "data": {
      "text/plain": [
       "show_id         0\n",
       "type            0\n",
       "title           0\n",
       "director        0\n",
       "country         0\n",
       "date_added      0\n",
       "release_year    0\n",
       "rating          0\n",
       "duration        0\n",
       "listed_in       0\n",
       "dtype: int64"
      ]
     },
     "execution_count": 36,
     "metadata": {},
     "output_type": "execute_result"
    }
   ],
   "source": [
    "df.isnull().sum()"
   ]
  },
  {
   "cell_type": "markdown",
   "id": "77578973",
   "metadata": {},
   "source": [
    "All columns, including show_id, type, title, director, country, date_added, release_year, rating, duration, and listed_in, have zero missing values.\n",
    "\n",
    "This means the dataset is complete and ready for analysis without needing any imputation or data cleaning for missing entries.\n",
    "\n"
   ]
  },
  {
   "cell_type": "markdown",
   "id": "1a16724e",
   "metadata": {},
   "source": [
    "# DISCUSSION"
   ]
  },
  {
   "cell_type": "code",
   "execution_count": 1,
   "id": "d88951fc",
   "metadata": {},
   "outputs": [
    {
     "data": {
      "image/png": "[encoded data removed]",
      "text/plain": [
       "<Figure size 1000x200 with 1 Axes>"
      ]
     },
     "metadata": {},
     "output_type": "display_data"
    }
   ],
   "source": [
    "import matplotlib.pyplot as plt\n",
    "\n",
    "# KPI values\n",
    "total_movies = 6081\n",
    "total_tv_shows = 2653\n",
    "average_rating = 8.2\n",
    "\n",
    "# Display KPIs in a horizontal layout\n",
    "plt.figure(figsize=(10, 2))\n",
    "plt.axis('off')\n",
    "\n",
    "# Display text\n",
    "plt.text(0.1, 0.5, f'Total Movies:\\n{total_movies}', fontsize=14, ha='center', va='center', bbox=dict(facecolor='lightblue', alpha=0.5))\n",
    "plt.text(0.5, 0.5, f'Total TV Shows:\\n{total_tv_shows}', fontsize=14, ha='center', va='center', bbox=dict(facecolor='lightgreen', alpha=0.5))\n",
    "plt.text(0.9, 0.5, f'Average Rating:\\n{average_rating}/10', fontsize=14, ha='center', va='center', bbox=dict(facecolor='lightcoral', alpha=0.5))\n",
    "\n",
    "plt.tight_layout()\n",
    "plt.show()\n"
   ]
  },
  {
   "cell_type": "markdown",
   "id": "5625808e",
   "metadata": {},
   "source": [
    "Total Movies: 6,081 titles categorized as \"Movie\".\n",
    "\n",
    "Total TV Shows: 2,653 titles categorized as \"TV Show\".\n",
    "\n",
    "Average Rating: The average user rating is 8.2 out of 10."
   ]
  },
  {
   "cell_type": "code",
   "execution_count": 9,
   "id": "30cdd6fd",
   "metadata": {},
   "outputs": [
    {
     "data": {
      "image/png": "[encoded data removed]",
      "text/plain": [
       "<Figure size 600x400 with 1 Axes>"
      ]
     },
     "metadata": {},
     "output_type": "display_data"
    }
   ],
   "source": [
    "import seaborn as sns\n",
    "import matplotlib.pyplot as plt\n",
    "\n",
    "# Lukis graf bar\n",
    "plt.figure(figsize=(6, 4))\n",
    "ax = sns.countplot(data=df, x='type', palette='pastel')  # Guna warna pastel\n",
    "\n",
    "# Tambah label jumlah atas setiap bar\n",
    "for p in ax.patches:\n",
    "    height = p.get_height()\n",
    "    ax.annotate(f'{height}', (p.get_x() + p.get_width() / 2, height),\n",
    "                ha='center', va='bottom', fontsize=10, fontweight='bold')\n",
    "\n",
    "# Tajuk dan label paksi\n",
    "plt.title('Total Number of Movies and TV Shows on Netflix')\n",
    "plt.xlabel('Type')\n",
    "plt.ylabel('Total')\n",
    "plt.tight_layout()tot\n",
    "plt.show()\n"
   ]
  },
  {
   "cell_type": "markdown",
   "id": "7437472c",
   "metadata": {},
   "source": [
    "- The bar chart shows the total number of Movies and TV Shows available on Netflix.\n",
    "\n",
    "- According to the graph, Movies dominate the platform with 6,126 titles, while TV Shows account for 2,664 titles.\n",
    "\n",
    "- This indicates that Netflix has a significantly higher number of movies compared to TV shows in its content library.\n",
    "\n",
    "- The pastel color palette and count labels on top of each bar make the chart easy to read and visually appealing."
   ]
  },
  {
   "cell_type": "code",
   "execution_count": 2,
   "id": "e2121159",
   "metadata": {},
   "outputs": [
    {
     "data": {
      "image/png": "[encoded data removed]",
      "text/plain": [
       "<Figure size 1000x600 with 1 Axes>"
      ]
     },
     "metadata": {},
     "output_type": "display_data"
    }
   ],
   "source": [
    "import pandas as pd\n",
    "import matplotlib.pyplot as plt\n",
    "import seaborn as sns\n",
    "\n",
    "# Load the dataset\n",
    "df = pd.read_csv('netflix1.csv', encoding='ISO-8859-1')\n",
    "\n",
    "# Filter only movies\n",
    "movies_df = df[df['type'] == 'Movie'].copy()\n",
    "\n",
    "# Extract numeric duration from 'duration' column (e.g., '90 min' → 90)\n",
    "movies_df['duration_mins'] = movies_df['duration'].str.extract(r'(\\d+)').astype(float)\n",
    "\n",
    "# Define custom bins and labels\n",
    "bins = [0, 50, 60, 70, 80, 90]\n",
    "labels = ['<50', '50-60', '60-70', '70-80', '80-90']\n",
    "movies_df['duration_bin'] = pd.cut(movies_df['duration_mins'], bins=bins, labels=labels, right=False)\n",
    "\n",
    "# Plot the bar chart\n",
    "plt.figure(figsize=(10, 6))\n",
    "sns.countplot(data=movies_df, x='duration_bin', palette='mako')\n",
    "plt.title('Number of Movies by Duration Interval (in minutes)')\n",
    "plt.xlabel('Duration Interval (minutes)')\n",
    "plt.ylabel('Number of Movies')\n",
    "plt.grid(axis='y', linestyle='--', alpha=0.7)\n",
    "plt.tight_layout()\n",
    "plt.show()\n",
    "\n"
   ]
  },
  {
   "cell_type": "markdown",
   "id": "ea18f4c1",
   "metadata": {},
   "source": [
    "This bar chart illustrates the number of movies grouped by their duration in minutes. The x-axis categorizes movies into five duration intervals, while the y-axis represents the number of movies in each category. The highest count about 800 movies falls in the 80-90 minute range, making it the most common duration. Meanwhile, shorter durations, like movies under 50 minutes, have fewer entries. Essentially, this chart shows that most movies tend to be between 80 and 90 minutes long."
   ]
  },
  {
   "cell_type": "code",
   "execution_count": 13,
   "id": "a53a052f",
   "metadata": {},
   "outputs": [
    {
     "data": {
      "image/png": "[encoded data removed]",
      "text/plain": [
       "<Figure size 800x800 with 1 Axes>"
      ]
     },
     "metadata": {},
     "output_type": "display_data"
    }
   ],
   "source": [
    "import matplotlib.pyplot as plt\n",
    "from collections import Counter\n",
    "\n",
    "# Count genres from 'listed_in' column (assuming comma-separated genre strings)\n",
    "genres = Counter()\n",
    "\n",
    "for item in df['listed_in'].dropna():\n",
    "    genre_list = [g.strip() for g in item.split(',')]\n",
    "    genres.update(genre_list)\n",
    "\n",
    "# Get top 5 genres\n",
    "top5 = genres.most_common(5)\n",
    "labels, counts = zip(*top5)\n",
    "\n",
    "# Plot pie chart\n",
    "plt.figure(figsize=(8, 8))\n",
    "plt.pie(counts, labels=labels, autopct='%1.1f%%', startangle=140)\n",
    "plt.title('Top 5 Most Popular Genres')\n",
    "plt.axis('equal')  # Make pie chart circular\n",
    "plt.show()\n",
    "\n",
    "\n"
   ]
  },
  {
   "cell_type": "markdown",
   "id": "432de66e",
   "metadata": {},
   "source": [
    "The code counts the occurrences of each genre from the listed_in column, which contains comma-separated genre lists. It then selects the top 5 genres and visualizes their share using a pie chart. The chart shows that International Movies are the largest category at 30.3%, followed by Dramas (26.7%), Comedies (18.5%), International TV Shows (14.9%), and Documentaries (9.6%). This helps us understand the dominant types of content in the dataset."
   ]
  },
  {
   "cell_type": "code",
   "execution_count": 5,
   "id": "1242984a",
   "metadata": {},
   "outputs": [
    {
     "data": {
      "image/png": "[encoded data removed]",
      "text/plain": [
       "<Figure size 1000x500 with 1 Axes>"
      ]
     },
     "metadata": {},
     "output_type": "display_data"
    }
   ],
   "source": [
    "import matplotlib.pyplot as plt\n",
    "import seaborn as sns\n",
    "\n",
    "# Get the top 5 ratings by count\n",
    "top5_ratings = df['rating'].value_counts().nlargest(5).index\n",
    "\n",
    "plt.figure(figsize=(10, 5))\n",
    "sns.countplot(data=df, x='rating', order=top5_ratings)\n",
    "plt.title('Top 5 Content Ratings Distribution')\n",
    "plt.xticks(rotation=45)\n",
    "plt.show()\n"
   ]
  },
  {
   "cell_type": "markdown",
   "id": "b9f1954b",
   "metadata": {},
   "source": [
    "TV-MA is the most common content rating, indicating mature audiences. It is followed by TV-14, suitable for viewers 14 and older. Next is TV-PG, which is generally family-friendly but with some parental guidance. The R rating comes after, indicating restricted content, and finally, PG-13 is the least frequent among these top ratings."
   ]
  },
  {
   "cell_type": "code",
   "execution_count": 18,
   "id": "a5c52237",
   "metadata": {},
   "outputs": [
    {
     "data": {
      "image/png": "[encoded data removed]",
      "text/plain": [
       "<Figure size 1200x500 with 1 Axes>"
      ]
     },
     "metadata": {},
     "output_type": "display_data"
    }
   ],
   "source": [
    "import matplotlib.pyplot as plt\n",
    "import seaborn as sns\n",
    "\n",
    "monthly = df.dropna(subset=['date_added'])\n",
    "\n",
    "monthly = monthly.groupby(monthly['date_added'].dt.to_period('M')).size().reset_index(name='count')\n",
    "monthly['date_added'] = monthly['date_added'].dt.to_timestamp()\n",
    "\n",
    "# Plot\n",
    "plt.figure(figsize=(12, 5))\n",
    "sns.lineplot(data=monthly, x='date_added', y='count')\n",
    "plt.title('Monthly Content Added to Netflix')\n",
    "plt.xlabel('Date')\n",
    "plt.ylabel('Count')\n",
    "plt.xticks(rotation=45)\n",
    "plt.tight_layout()\n",
    "plt.show()\n"
   ]
  },
  {
   "cell_type": "markdown",
   "id": "11d5fda4",
   "metadata": {},
   "source": [
    "The line chart shows the number of titles added to Netflix each month over time.\n",
    "\n",
    "- There was very little new content added before 2015.\n",
    "\n",
    "- Starting around 2016, there was a noticeable increase in the volume of new titles.\n",
    "\n",
    "- The number of additions peaked in several months around 2019 to 2021, reaching over 250 titles in some months.\n",
    "\n",
    "- This indicates a significant expansion of Netflix’s content library in recent years."
   ]
  },
  {
   "cell_type": "code",
   "execution_count": 15,
   "id": "e3b874d2",
   "metadata": {},
   "outputs": [
    {
     "data": {
      "image/png": "[encoded data removed]",
      "text/plain": [
       "<Figure size 1000x500 with 1 Axes>"
      ]
     },
     "metadata": {},
     "output_type": "display_data"
    }
   ],
   "source": [
    "top_countries = df['country'].value_counts().head(5)\n",
    "\n",
    "plt.figure(figsize=(10, 5))\n",
    "sns.barplot(x=top_countries.values, y=top_countries.index)\n",
    "plt.title('Top 5 Countries with the Most Netflix Content')\n",
    "plt.xlabel('Total')\n",
    "plt.ylabel('Country')\n",
    "plt.show()\n"
   ]
  },
  {
   "cell_type": "markdown",
   "id": "9fb8cc37",
   "metadata": {},
   "source": [
    "Explanation of Top 5 Countries with the Most Netflix Content\n",
    "\n",
    "- The chart displays the top 5 countries contributing the most content to Netflix.\n",
    "\n",
    "- United States has the highest number of titles available, leading by a significant margin.\n",
    "\n",
    "- India ranks second, showing strong regional content production.\n",
    "\n",
    "- United Kingdom follows in third place with a large collection of English-language shows and films.\n",
    "\n",
    "- Pakistan appears next, contributing a smaller but notable portion of content.\n",
    "\n",
    "- The fifth category is labeled Not Given, representing entries where the country information is missing or not specified in the dataset.\n",
    "\n"
   ]
  },
  {
   "cell_type": "markdown",
   "id": "e4908974",
   "metadata": {},
   "source": [
    "# Streamlit Phyton source code"
   ]
  },
  {
   "cell_type": "markdown",
   "id": "f3b4f8ba",
   "metadata": {},
   "source": [
    "https://mini-project-umiciqin.streamlit.app"
   ]
  },
  {
   "cell_type": "markdown",
   "id": "17a15053",
   "metadata": {},
   "source": [
    "# CONCLUSION"
   ]
  },
  {
   "cell_type": "markdown",
   "id": "2f528401",
   "metadata": {},
   "source": [
    "Our analysis of the Netflix dataset has revealed valuable insights into its content distribution and trends. We observed how different genres dominate the platform, how content ratings indicate target audiences, and how Netflix has expanded its library over time. Visualizing this data helped us better understand the structure of Netflix’s offerings and its global reach. By using tools like Python, Streamlit, and Plotly, we created interactive dashboards that make data exploration more accessible. This project demonstrates the power of data visualization in uncovering patterns and trends in streaming content."
   ]
  }
 ],
 "metadata": {
  "kernelspec": {
   "display_name": "Python 3 (ipykernel)",
   "language": "python",
   "name": "python3"
  },
  "language_info": {
   "codemirror_mode": {
    "name": "ipython",
    "version": 3
   },
   "file_extension": ".py",
   "mimetype": "text/x-python",
   "name": "python",
   "nbconvert_exporter": "python",
   "pygments_lexer": "ipython3",
   "version": "3.11.5"
  }
 },
 "nbformat": 4,
 "nbformat_minor": 5
}
